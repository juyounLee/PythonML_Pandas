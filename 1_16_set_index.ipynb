{
  "nbformat": 4,
  "nbformat_minor": 0,
  "metadata": {
    "colab": {
      "name": "1.16_set_index.ipynb",
      "provenance": [],
      "authorship_tag": "ABX9TyNgP66foHkK45hQeP1BWXQq",
      "include_colab_link": true
    },
    "kernelspec": {
      "name": "python3",
      "display_name": "Python 3"
    }
  },
  "cells": [
    {
      "cell_type": "markdown",
      "metadata": {
        "id": "view-in-github",
        "colab_type": "text"
      },
      "source": [
        "<a href=\"https://colab.research.google.com/github/juyounLee/PythonML_Pandas/blob/main/1_16_set_index.ipynb\" target=\"_parent\"><img src=\"https://colab.research.google.com/assets/colab-badge.svg\" alt=\"Open In Colab\"/></a>"
      ]
    },
    {
      "cell_type": "markdown",
      "metadata": {
        "id": "7aUNi4_kmDSs"
      },
      "source": [
        "## Ex 1-16 특정 열을 index로 설정"
      ]
    },
    {
      "cell_type": "code",
      "metadata": {
        "id": "cAGHK2ZLmANU"
      },
      "source": [
        "import pandas as pd"
      ],
      "execution_count": 1,
      "outputs": []
    },
    {
      "cell_type": "code",
      "metadata": {
        "id": "zSDITJODmdCl",
        "outputId": "c2d68338-ba56-40ce-b7b8-e67a451626c0",
        "colab": {
          "base_uri": "https://localhost:8080/",
          "height": 104
        }
      },
      "source": [
        "# DataFrame() 함수로 데이터프레임 변환, 변수 df에 저장\n",
        "\n",
        "exam_data = {'name':['stu1', 'stu2', 'stu3'], 'math':[90, 80, 70], 'eng':[98, 99, 95],\n",
        "             'music':[89, 90, 92], 'PE':[96, 99, 92]}\n",
        "\n",
        "df = pd.DataFrame(exam_data)\n",
        "print(df)\n",
        "print(type(df))"
      ],
      "execution_count": 2,
      "outputs": [
        {
          "output_type": "stream",
          "text": [
            "   name  math  eng  music  PE\n",
            "0  stu1    90   98     89  96\n",
            "1  stu2    80   99     90  99\n",
            "2  stu3    70   95     92  92\n",
            "<class 'pandas.core.frame.DataFrame'>\n"
          ],
          "name": "stdout"
        }
      ]
    },
    {
      "cell_type": "code",
      "metadata": {
        "id": "uCX-ySbSmeW2",
        "outputId": "6a1d68b3-6bb7-4bf2-b45d-b8c052bfa2cc",
        "colab": {
          "base_uri": "https://localhost:8080/",
          "height": 277
        }
      },
      "source": [
        "# 특정 column을 dataframe의 row index로 설정\n",
        "ndf = df.set_index('name')\n",
        "print(ndf)\n",
        "\n",
        "ndf2 = df.set_index('music')\n",
        "print(ndf2)\n",
        "\n",
        "ndf3 = df.set_index(['math', 'music'])\n",
        "print(ndf3)"
      ],
      "execution_count": 3,
      "outputs": [
        {
          "output_type": "stream",
          "text": [
            "      math  eng  music  PE\n",
            "name                      \n",
            "stu1    90   98     89  96\n",
            "stu2    80   99     90  99\n",
            "stu3    70   95     92  92\n",
            "       name  math  eng  PE\n",
            "music                     \n",
            "89     stu1    90   98  96\n",
            "90     stu2    80   99  99\n",
            "92     stu3    70   95  92\n",
            "            name  eng  PE\n",
            "math music               \n",
            "90   89     stu1   98  96\n",
            "80   90     stu2   99  99\n",
            "70   92     stu3   95  92\n"
          ],
          "name": "stdout"
        }
      ]
    },
    {
      "cell_type": "code",
      "metadata": {
        "id": "M9XuWjX9m5Uc"
      },
      "source": [
        ""
      ],
      "execution_count": 3,
      "outputs": []
    }
  ]
}