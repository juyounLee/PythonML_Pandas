{
  "nbformat": 4,
  "nbformat_minor": 0,
  "metadata": {
    "colab": {
      "name": "1.11_select_element.ipynb",
      "provenance": [],
      "authorship_tag": "ABX9TyNd9KqHnqfDhoq7qMAx0rQY",
      "include_colab_link": true
    },
    "kernelspec": {
      "name": "python3",
      "display_name": "Python 3"
    }
  },
  "cells": [
    {
      "cell_type": "markdown",
      "metadata": {
        "id": "view-in-github",
        "colab_type": "text"
      },
      "source": [
        "<a href=\"https://colab.research.google.com/github/juyounLee/PythonML_Pandas/blob/main/1_11_select_element.ipynb\" target=\"_parent\"><img src=\"https://colab.research.google.com/assets/colab-badge.svg\" alt=\"Open In Colab\"/></a>"
      ]
    },
    {
      "cell_type": "markdown",
      "metadata": {
        "id": "qnBgyhiqVHYf"
      },
      "source": [
        "## 예제 1-11 원소 선택"
      ]
    },
    {
      "cell_type": "code",
      "metadata": {
        "id": "hnEJ268mLP1N"
      },
      "source": [
        "import pandas as pd"
      ],
      "execution_count": 1,
      "outputs": []
    },
    {
      "cell_type": "code",
      "metadata": {
        "id": "5Qn_La8CVQa9",
        "outputId": "2926b37e-a772-431e-ed7f-3d99a7640016",
        "colab": {
          "base_uri": "https://localhost:8080/",
          "height": 104
        }
      },
      "source": [
        "# DataFrame() 함수로 데이터프레임 변환, 변수 df에 저장\n",
        "\n",
        "exam_data = {'name':['stu1', 'stu2', 'stu3'], 'math':[90, 80, 70], 'eng':[98, 99, 95],\n",
        "             'music':[89, 90, 92], 'PE':[96, 99, 92]}\n",
        "\n",
        "df = pd.DataFrame(exam_data)\n",
        "print(df)\n",
        "print(type(df))"
      ],
      "execution_count": 2,
      "outputs": [
        {
          "output_type": "stream",
          "text": [
            "   name  math  eng  music  PE\n",
            "0  stu1    90   98     89  96\n",
            "1  stu2    80   99     90  99\n",
            "2  stu3    70   95     92  92\n",
            "<class 'pandas.core.frame.DataFrame'>\n"
          ],
          "name": "stdout"
        }
      ]
    },
    {
      "cell_type": "code",
      "metadata": {
        "id": "jH6gMbpSVTXY",
        "outputId": "19cb85c3-0618-40f7-fde2-74709380da8b",
        "colab": {
          "base_uri": "https://localhost:8080/",
          "height": 104
        }
      },
      "source": [
        "# name 컬럼을 인덱스로 지정\n",
        "df.set_index('name', inplace=True)\n",
        "print(df)"
      ],
      "execution_count": 3,
      "outputs": [
        {
          "output_type": "stream",
          "text": [
            "      math  eng  music  PE\n",
            "name                      \n",
            "stu1    90   98     89  96\n",
            "stu2    80   99     90  99\n",
            "stu3    70   95     92  92\n"
          ],
          "name": "stdout"
        }
      ]
    },
    {
      "cell_type": "code",
      "metadata": {
        "id": "O19BoPmpVgu3",
        "outputId": "4c232f81-7190-4507-8c42-f8238039c01a",
        "colab": {
          "base_uri": "https://localhost:8080/",
          "height": 69
        }
      },
      "source": [
        "# dataFrame의 특정 원소 1개 선택('stu1'의 'music')\n",
        "\n",
        "a = df.loc['stu1', 'music']\n",
        "print(a)\n",
        "b = df.iloc[0, 2]\n",
        "print(b)\n",
        "print(type(a))"
      ],
      "execution_count": 4,
      "outputs": [
        {
          "output_type": "stream",
          "text": [
            "89\n",
            "89\n",
            "<class 'numpy.int64'>\n"
          ],
          "name": "stdout"
        }
      ]
    },
    {
      "cell_type": "code",
      "metadata": {
        "id": "fzNPFJ3VV0PK",
        "outputId": "809b8e0f-6759-4457-c642-357aaffc24f5",
        "colab": {
          "base_uri": "https://localhost:8080/",
          "height": 225
        }
      },
      "source": [
        "# dataFrame의 특정 원소 2개 선택('stu1'의 'music'과 'PE')\n",
        "c = df.loc['stu1', ['music', 'PE']]\n",
        "print(c)\n",
        "\n",
        "d = df.iloc[0,[2, 3]]\n",
        "print(d)\n",
        "\n",
        "e = df.loc['stu1', 'music':'PE']\n",
        "print(e)\n",
        "\n",
        "f = df.iloc[0, 2:4]\n",
        "print(f)"
      ],
      "execution_count": 5,
      "outputs": [
        {
          "output_type": "stream",
          "text": [
            "music    89\n",
            "PE       96\n",
            "Name: stu1, dtype: int64\n",
            "music    89\n",
            "PE       96\n",
            "Name: stu1, dtype: int64\n",
            "music    89\n",
            "PE       96\n",
            "Name: stu1, dtype: int64\n",
            "music    89\n",
            "PE       96\n",
            "Name: stu1, dtype: int64\n"
          ],
          "name": "stdout"
        }
      ]
    },
    {
      "cell_type": "code",
      "metadata": {
        "id": "09GYRzsJWbA8",
        "outputId": "df30d5e1-6669-4fdb-e2f0-5c589eb5f0c3",
        "colab": {
          "base_uri": "https://localhost:8080/",
          "height": 295
        }
      },
      "source": [
        "# dataFrame 2개 이상의 row와 columns에 속하는 elements 선택('stu1'과 'stu2'의 'music'과 'PE')\n",
        "g = df.loc[['stu1', 'stu2'], ['music', 'PE']]\n",
        "print(g)\n",
        "\n",
        "h = df.iloc[[0,1], [2,3]]\n",
        "print(h)\n",
        "\n",
        "i = df.loc['stu1':'stu2', 'music':'PE']\n",
        "print(i)\n",
        "\n",
        "j = df.iloc[0:2, 2:]\n",
        "print(j)"
      ],
      "execution_count": 6,
      "outputs": [
        {
          "output_type": "stream",
          "text": [
            "      music  PE\n",
            "name           \n",
            "stu1     89  96\n",
            "stu2     90  99\n",
            "      music  PE\n",
            "name           \n",
            "stu1     89  96\n",
            "stu2     90  99\n",
            "      music  PE\n",
            "name           \n",
            "stu1     89  96\n",
            "stu2     90  99\n",
            "      music  PE\n",
            "name           \n",
            "stu1     89  96\n",
            "stu2     90  99\n"
          ],
          "name": "stdout"
        }
      ]
    },
    {
      "cell_type": "code",
      "metadata": {
        "id": "PE7gknxfYGJr"
      },
      "source": [
        ""
      ],
      "execution_count": 6,
      "outputs": []
    }
  ]
}