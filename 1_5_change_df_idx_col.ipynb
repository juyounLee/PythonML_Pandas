{
  "nbformat": 4,
  "nbformat_minor": 0,
  "metadata": {
    "colab": {
      "name": "1.5_change_df_idx_col.ipynb",
      "provenance": [],
      "collapsed_sections": [],
      "authorship_tag": "ABX9TyOs/4G7VTBxuDoe/ipysp6q",
      "include_colab_link": true
    },
    "kernelspec": {
      "name": "python3",
      "display_name": "Python 3"
    }
  },
  "cells": [
    {
      "cell_type": "markdown",
      "metadata": {
        "id": "view-in-github",
        "colab_type": "text"
      },
      "source": [
        "<a href=\"https://colab.research.google.com/github/juyounLee/PythonML_Pandas/blob/main/1_5_change_df_idx_col.ipynb\" target=\"_parent\"><img src=\"https://colab.research.google.com/assets/colab-badge.svg\" alt=\"Open In Colab\"/></a>"
      ]
    },
    {
      "cell_type": "markdown",
      "metadata": {
        "id": "WqlIZBfnYjEB"
      },
      "source": [
        "## 예제 1-5 index / column 이름 설정"
      ]
    },
    {
      "cell_type": "code",
      "metadata": {
        "id": "7gUKlXRfYcTs"
      },
      "source": [
        "import pandas as pd"
      ],
      "execution_count": 1,
      "outputs": []
    },
    {
      "cell_type": "code",
      "metadata": {
        "id": "nSko0YsbYsfD",
        "outputId": "29056dfb-9034-4c4a-c94f-4f8336fc4aee",
        "colab": {
          "base_uri": "https://localhost:8080/",
          "height": 139
        }
      },
      "source": [
        "# index / column 이름 지정하여 dataframe 만들기\n",
        "\n",
        "df = pd.DataFrame([[15, '남', 'UW'], [20, '여', 'BC']],\n",
        "                  index = ['Bill', 'Jane'],\n",
        "                  columns = ['Age', 'Sex', 'School'])\n",
        "\n",
        "# index, columns 이름 확인\n",
        "print(df, '\\n')\n",
        "print(df.index, '\\n')\n",
        "print(df.columns)"
      ],
      "execution_count": 2,
      "outputs": [
        {
          "output_type": "stream",
          "text": [
            "      Age Sex School\n",
            "Bill   15   남     UW\n",
            "Jane   20   여     BC \n",
            "\n",
            "Index(['Bill', 'Jane'], dtype='object') \n",
            "\n",
            "Index(['Age', 'Sex', 'School'], dtype='object')\n"
          ],
          "name": "stdout"
        }
      ]
    },
    {
      "cell_type": "code",
      "metadata": {
        "id": "DslBcTd-ZX5W",
        "outputId": "3987abf5-53bc-4d22-bee2-505ee4bd2f20",
        "colab": {
          "base_uri": "https://localhost:8080/",
          "height": 139
        }
      },
      "source": [
        "# index, columns 이름 변경하기\n",
        "df.index = ['student1', 'student2']\n",
        "df.columns = ['Age', 'Sex', 'College']\n",
        "\n",
        "print(df, '\\n')\n",
        "print(df.index, '\\n')\n",
        "print(df.columns)"
      ],
      "execution_count": 3,
      "outputs": [
        {
          "output_type": "stream",
          "text": [
            "          Age Sex College\n",
            "student1   15   남      UW\n",
            "student2   20   여      BC \n",
            "\n",
            "Index(['student1', 'student2'], dtype='object') \n",
            "\n",
            "Index(['Age', 'Sex', 'College'], dtype='object')\n"
          ],
          "name": "stdout"
        }
      ]
    },
    {
      "cell_type": "code",
      "metadata": {
        "id": "AnGKFgb5Z0Lp"
      },
      "source": [
        ""
      ],
      "execution_count": 3,
      "outputs": []
    }
  ]
}