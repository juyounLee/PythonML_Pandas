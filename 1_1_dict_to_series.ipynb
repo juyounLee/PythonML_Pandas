{
  "nbformat": 4,
  "nbformat_minor": 0,
  "metadata": {
    "colab": {
      "name": "1.1_dict_to_series.ipynb",
      "provenance": [],
      "authorship_tag": "ABX9TyPlWaN2S7ZCfGDrcFOq9vED",
      "include_colab_link": true
    },
    "kernelspec": {
      "name": "python3",
      "display_name": "Python 3"
    }
  },
  "cells": [
    {
      "cell_type": "markdown",
      "metadata": {
        "id": "view-in-github",
        "colab_type": "text"
      },
      "source": [
        "<a href=\"https://colab.research.google.com/github/juyounLee/PythonML_Pandas/blob/main/1_1_dict_to_series.ipynb\" target=\"_parent\"><img src=\"https://colab.research.google.com/assets/colab-badge.svg\" alt=\"Open In Colab\"/></a>"
      ]
    },
    {
      "cell_type": "markdown",
      "metadata": {
        "id": "DxmzvVk0DWqC"
      },
      "source": [
        "## 예제 1-1 Dictionary -> Series 변환"
      ]
    },
    {
      "cell_type": "code",
      "metadata": {
        "id": "2d8UxZP4DPgG"
      },
      "source": [
        "# pandas 불러오기\n",
        "import pandas as pd"
      ],
      "execution_count": 1,
      "outputs": []
    },
    {
      "cell_type": "code",
      "metadata": {
        "id": "Qmz2HOxbDjRs"
      },
      "source": [
        "# key:value 쌍으로 dictionary를 반들고, 변수 dict_data에 저장\n",
        "dict_data = {'a':1, 'b':2, 'c':3}"
      ],
      "execution_count": 2,
      "outputs": []
    },
    {
      "cell_type": "code",
      "metadata": {
        "id": "NNSNcL-ME3W-"
      },
      "source": [
        "# pandas Series() 함수로 dictionary를 series로 변환, 변수 sr에 저장\n",
        "sr = pd.Series(dict_data)"
      ],
      "execution_count": 3,
      "outputs": []
    },
    {
      "cell_type": "code",
      "metadata": {
        "id": "lCnZifewFBfJ",
        "outputId": "997b63f6-362c-4aa8-ddd7-3e443dc6eecb",
        "colab": {
          "base_uri": "https://localhost:8080/",
          "height": 35
        }
      },
      "source": [
        "# sr의 자료형 출력\n",
        "print(type(sr))"
      ],
      "execution_count": 4,
      "outputs": [
        {
          "output_type": "stream",
          "text": [
            "<class 'pandas.core.series.Series'>\n"
          ],
          "name": "stdout"
        }
      ]
    },
    {
      "cell_type": "code",
      "metadata": {
        "id": "3mVdJCFQFF_L",
        "outputId": "33b2b161-014e-4c8d-a4d2-267781e863f1",
        "colab": {
          "base_uri": "https://localhost:8080/",
          "height": 87
        }
      },
      "source": [
        "# 변수 sr에 저장되어 있는 series object를 출력\n",
        "print(sr)"
      ],
      "execution_count": 5,
      "outputs": [
        {
          "output_type": "stream",
          "text": [
            "a    1\n",
            "b    2\n",
            "c    3\n",
            "dtype: int64\n"
          ],
          "name": "stdout"
        }
      ]
    },
    {
      "cell_type": "code",
      "metadata": {
        "id": "9cfjqR81FJ11"
      },
      "source": [
        ""
      ],
      "execution_count": 5,
      "outputs": []
    }
  ]
}