{
  "nbformat": 4,
  "nbformat_minor": 0,
  "metadata": {
    "colab": {
      "name": "1.3_series_element.ipynb",
      "provenance": [],
      "authorship_tag": "ABX9TyP/FGIa5TEdzWlA3LpGp4JT",
      "include_colab_link": true
    },
    "kernelspec": {
      "name": "python3",
      "display_name": "Python 3"
    }
  },
  "cells": [
    {
      "cell_type": "markdown",
      "metadata": {
        "id": "view-in-github",
        "colab_type": "text"
      },
      "source": [
        "<a href=\"https://colab.research.google.com/github/juyounLee/PythonML_Pandas/blob/main/1_3_series_element.ipynb\" target=\"_parent\"><img src=\"https://colab.research.google.com/assets/colab-badge.svg\" alt=\"Open In Colab\"/></a>"
      ]
    },
    {
      "cell_type": "markdown",
      "metadata": {
        "id": "MVf-foNKNHDO"
      },
      "source": [
        "## 예제 1-3 Series element 선택"
      ]
    },
    {
      "cell_type": "code",
      "metadata": {
        "id": "chZvDVhoNCcS"
      },
      "source": [
        "import pandas as pd"
      ],
      "execution_count": 1,
      "outputs": []
    },
    {
      "cell_type": "code",
      "metadata": {
        "id": "dobp2rkXNOHt",
        "outputId": "0ae954c4-9256-4bf3-a935-86bdad4ef583",
        "colab": {
          "base_uri": "https://localhost:8080/",
          "height": 104
        }
      },
      "source": [
        "# turple을 series로 변환 (index option 지정)\n",
        "\n",
        "tup_data = ('영인', '2020-8-20', '여', True)\n",
        "sr = pd.Series(tup_data, index=['이름', '생년월일', '성별', '학생여부'])\n",
        "print(sr)"
      ],
      "execution_count": 2,
      "outputs": [
        {
          "output_type": "stream",
          "text": [
            "이름             영인\n",
            "생년월일    2020-8-20\n",
            "성별              여\n",
            "학생여부         True\n",
            "dtype: object\n"
          ],
          "name": "stdout"
        }
      ]
    },
    {
      "cell_type": "code",
      "metadata": {
        "id": "WcJt4miQNmU-",
        "outputId": "e483a55b-7315-48d0-97ed-633716fa1af9",
        "colab": {
          "base_uri": "https://localhost:8080/",
          "height": 52
        }
      },
      "source": [
        "# element를 1개 선택\n",
        "print(sr[0]) # sr의 1번째 원소를 선택\n",
        "print(sr['이름']) # 이름 라벨을 가진 element를 선택"
      ],
      "execution_count": 3,
      "outputs": [
        {
          "output_type": "stream",
          "text": [
            "영인\n",
            "영인\n"
          ],
          "name": "stdout"
        }
      ]
    },
    {
      "cell_type": "code",
      "metadata": {
        "id": "N_WteS6pN0kH",
        "outputId": "2e570b27-a56e-440a-ca89-65178d1885df",
        "colab": {
          "base_uri": "https://localhost:8080/",
          "height": 139
        }
      },
      "source": [
        "# 여러개의 원소를 선택\n",
        "print(sr[[1, 2]], '\\n') # <반드시 list를 사용할것!!!>\n",
        "print(sr[['생년월일', '성별']])"
      ],
      "execution_count": 4,
      "outputs": [
        {
          "output_type": "stream",
          "text": [
            "생년월일    2020-8-20\n",
            "성별              여\n",
            "dtype: object \n",
            "\n",
            "생년월일    2020-8-20\n",
            "성별              여\n",
            "dtype: object\n"
          ],
          "name": "stdout"
        }
      ]
    },
    {
      "cell_type": "code",
      "metadata": {
        "id": "psWL_hhzODnG",
        "outputId": "85943115-5c4a-4445-e26c-763648827bc9",
        "colab": {
          "base_uri": "https://localhost:8080/",
          "height": 156
        }
      },
      "source": [
        "# 여러개의 원소를 선택 (index 범위를 지정)\n",
        "print(sr[1:3], '\\n')\n",
        "print(sr['생년월일': '학생여부'])"
      ],
      "execution_count": 5,
      "outputs": [
        {
          "output_type": "stream",
          "text": [
            "생년월일    2020-8-20\n",
            "성별              여\n",
            "dtype: object \n",
            "\n",
            "생년월일    2020-8-20\n",
            "성별              여\n",
            "학생여부         True\n",
            "dtype: object\n"
          ],
          "name": "stdout"
        }
      ]
    },
    {
      "cell_type": "code",
      "metadata": {
        "id": "vHijl4F6WVVg"
      },
      "source": [
        ""
      ],
      "execution_count": 5,
      "outputs": []
    }
  ]
}