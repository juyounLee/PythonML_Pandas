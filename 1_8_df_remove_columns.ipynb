{
  "nbformat": 4,
  "nbformat_minor": 0,
  "metadata": {
    "colab": {
      "name": "1.8_df_remove_columns.ipynb",
      "provenance": [],
      "authorship_tag": "ABX9TyOiueA6SDW0fcLKqp84bDAA",
      "include_colab_link": true
    },
    "kernelspec": {
      "name": "python3",
      "display_name": "Python 3"
    }
  },
  "cells": [
    {
      "cell_type": "markdown",
      "metadata": {
        "id": "view-in-github",
        "colab_type": "text"
      },
      "source": [
        "<a href=\"https://colab.research.google.com/github/juyounLee/PythonML_Pandas/blob/main/1_8_df_remove_columns.ipynb\" target=\"_parent\"><img src=\"https://colab.research.google.com/assets/colab-badge.svg\" alt=\"Open In Colab\"/></a>"
      ]
    },
    {
      "cell_type": "markdown",
      "metadata": {
        "id": "Iqn-xm6IirIU"
      },
      "source": [
        "## 예제 1-8 열 삭제"
      ]
    },
    {
      "cell_type": "code",
      "metadata": {
        "id": "ie5leosKilyf"
      },
      "source": [
        "import pandas as pd"
      ],
      "execution_count": 1,
      "outputs": []
    },
    {
      "cell_type": "code",
      "metadata": {
        "id": "M3QlKqsejQUE",
        "outputId": "3b9ee5e9-8c81-4f47-a39e-9763f2152daa",
        "colab": {
          "base_uri": "https://localhost:8080/",
          "height": 87
        }
      },
      "source": [
        "# DataFrame() 함수로 데이터프레임 변환, 변수 df에 저장\n",
        "\n",
        "exam_data = {'math':[90, 80, 70], 'eng':[98, 99, 95],\n",
        "             'music':[89, 90, 92], 'PE':[96, 99, 92]}\n",
        "\n",
        "df = pd.DataFrame(exam_data, index=['stu1', 'stu2', 'stu3'])\n",
        "print(df)"
      ],
      "execution_count": 2,
      "outputs": [
        {
          "output_type": "stream",
          "text": [
            "      math  eng  music  PE\n",
            "stu1    90   98     89  96\n",
            "stu2    80   99     90  99\n",
            "stu3    70   95     92  92\n"
          ],
          "name": "stdout"
        }
      ]
    },
    {
      "cell_type": "code",
      "metadata": {
        "id": "4P4o1CYRm3C7",
        "outputId": "6ca36c5a-4041-492b-8bee-7afc13271b69",
        "colab": {
          "base_uri": "https://localhost:8080/",
          "height": 260
        }
      },
      "source": [
        "# dataFrame df를 copy하여 변수 df4에 저장, df4의 1개 column 삭제\n",
        "\n",
        "df4 = df[:]\n",
        "df4.drop('math', axis=1, inplace=True)\n",
        "print(df4, '\\n')\n",
        "print(df)"
      ],
      "execution_count": 3,
      "outputs": [
        {
          "output_type": "stream",
          "text": [
            "      eng  music  PE\n",
            "stu1   98     89  96\n",
            "stu2   99     90  99\n",
            "stu3   95     92  92 \n",
            "\n",
            "      math  eng  music  PE\n",
            "stu1    90   98     89  96\n",
            "stu2    80   99     90  99\n",
            "stu3    70   95     92  92\n"
          ],
          "name": "stdout"
        },
        {
          "output_type": "stream",
          "text": [
            "/usr/local/lib/python3.6/dist-packages/pandas/core/frame.py:4169: SettingWithCopyWarning: \n",
            "A value is trying to be set on a copy of a slice from a DataFrame\n",
            "\n",
            "See the caveats in the documentation: https://pandas.pydata.org/pandas-docs/stable/user_guide/indexing.html#returning-a-view-versus-a-copy\n",
            "  errors=errors,\n"
          ],
          "name": "stderr"
        }
      ]
    },
    {
      "cell_type": "code",
      "metadata": {
        "id": "zTDC6pGrpLa6",
        "outputId": "773d144d-2876-4024-8374-a3514b9ffa24",
        "colab": {
          "base_uri": "https://localhost:8080/",
          "height": 260
        }
      },
      "source": [
        "# dataFrame df를 copy하여 변수 df5에 저장, df5의 2개 column 삭제\n",
        "\n",
        "df5 = df[:]\n",
        "df5.drop(['eng', 'music'], axis=1, inplace=True)\n",
        "print(df5, '\\n')\n",
        "print(df)"
      ],
      "execution_count": 4,
      "outputs": [
        {
          "output_type": "stream",
          "text": [
            "      math  PE\n",
            "stu1    90  96\n",
            "stu2    80  99\n",
            "stu3    70  92 \n",
            "\n",
            "      math  eng  music  PE\n",
            "stu1    90   98     89  96\n",
            "stu2    80   99     90  99\n",
            "stu3    70   95     92  92\n"
          ],
          "name": "stdout"
        },
        {
          "output_type": "stream",
          "text": [
            "/usr/local/lib/python3.6/dist-packages/pandas/core/frame.py:4169: SettingWithCopyWarning: \n",
            "A value is trying to be set on a copy of a slice from a DataFrame\n",
            "\n",
            "See the caveats in the documentation: https://pandas.pydata.org/pandas-docs/stable/user_guide/indexing.html#returning-a-view-versus-a-copy\n",
            "  errors=errors,\n"
          ],
          "name": "stderr"
        }
      ]
    },
    {
      "cell_type": "code",
      "metadata": {
        "id": "iflB77maplMJ"
      },
      "source": [
        ""
      ],
      "execution_count": 4,
      "outputs": []
    }
  ]
}