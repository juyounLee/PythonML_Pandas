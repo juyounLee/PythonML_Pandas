{
  "nbformat": 4,
  "nbformat_minor": 0,
  "metadata": {
    "colab": {
      "name": "1.7_df_remove_row.ipynb",
      "provenance": [],
      "authorship_tag": "ABX9TyM65QU6OpDuVdomGpThQiOa",
      "include_colab_link": true
    },
    "kernelspec": {
      "name": "python3",
      "display_name": "Python 3"
    }
  },
  "cells": [
    {
      "cell_type": "markdown",
      "metadata": {
        "id": "view-in-github",
        "colab_type": "text"
      },
      "source": [
        "<a href=\"https://colab.research.google.com/github/juyounLee/PythonML_Pandas/blob/main/1_7_df_remove_row.ipynb\" target=\"_parent\"><img src=\"https://colab.research.google.com/assets/colab-badge.svg\" alt=\"Open In Colab\"/></a>"
      ]
    },
    {
      "cell_type": "markdown",
      "metadata": {
        "id": "aCFgPZdZgJ1n"
      },
      "source": [
        "## Row 삭제"
      ]
    },
    {
      "cell_type": "code",
      "metadata": {
        "id": "2kHqa11MepXc"
      },
      "source": [
        "import pandas as pd"
      ],
      "execution_count": 1,
      "outputs": []
    },
    {
      "cell_type": "code",
      "metadata": {
        "id": "YFNeVr7Dghjx",
        "outputId": "c87b3d5a-0958-4738-9377-980176d9c7d5",
        "colab": {
          "base_uri": "https://localhost:8080/",
          "height": 329
        }
      },
      "source": [
        "# dataFrame() 함수로 dataFrame 변환. 변수 df에 저장\n",
        "\n",
        "exam_data = {'math':[90, 80, 70], 'english':[98, 89, 95],\n",
        "             'music':[80, 95, 100], 'PE':[100, 90, 90]}\n",
        "\n",
        "df = pd.DataFrame(exam_data, index=['stu1', 'stu2', 'stu3'])\n",
        "print(df, '\\n')\n",
        "\n",
        "\n",
        "# dataFrame df를 copy하여 변수 df2에 저장, df2의 1개 row 삭제\n",
        "\n",
        "df2 = df[:]\n",
        "df2.drop('stu2', inplace=True)\n",
        "print(df2, '\\n')\n",
        "print(df)"
      ],
      "execution_count": 2,
      "outputs": [
        {
          "output_type": "stream",
          "text": [
            "      math  english  music   PE\n",
            "stu1    90       98     80  100\n",
            "stu2    80       89     95   90\n",
            "stu3    70       95    100   90 \n",
            "\n",
            "      math  english  music   PE\n",
            "stu1    90       98     80  100\n",
            "stu3    70       95    100   90 \n",
            "\n",
            "      math  english  music   PE\n",
            "stu1    90       98     80  100\n",
            "stu2    80       89     95   90\n",
            "stu3    70       95    100   90\n"
          ],
          "name": "stdout"
        },
        {
          "output_type": "stream",
          "text": [
            "/usr/local/lib/python3.6/dist-packages/pandas/core/frame.py:4169: SettingWithCopyWarning: \n",
            "A value is trying to be set on a copy of a slice from a DataFrame\n",
            "\n",
            "See the caveats in the documentation: https://pandas.pydata.org/pandas-docs/stable/user_guide/indexing.html#returning-a-view-versus-a-copy\n",
            "  errors=errors,\n"
          ],
          "name": "stderr"
        }
      ]
    },
    {
      "cell_type": "code",
      "metadata": {
        "id": "xF-zaqGHhJxl",
        "outputId": "df6422d9-4444-4e67-c849-cdade2975173",
        "colab": {
          "base_uri": "https://localhost:8080/",
          "height": 225
        }
      },
      "source": [
        "# dataFrame df를 copy하여 변수 df3에 저장, df3의 2개 row 삭제\n",
        "\n",
        "df3 = df[:]\n",
        "df3.drop(['stu2', 'stu3'], axis=0, inplace=True)\n",
        "print(df3, '\\n')\n",
        "print(df)"
      ],
      "execution_count": 3,
      "outputs": [
        {
          "output_type": "stream",
          "text": [
            "      math  english  music   PE\n",
            "stu1    90       98     80  100 \n",
            "\n",
            "      math  english  music   PE\n",
            "stu1    90       98     80  100\n",
            "stu2    80       89     95   90\n",
            "stu3    70       95    100   90\n"
          ],
          "name": "stdout"
        },
        {
          "output_type": "stream",
          "text": [
            "/usr/local/lib/python3.6/dist-packages/pandas/core/frame.py:4169: SettingWithCopyWarning: \n",
            "A value is trying to be set on a copy of a slice from a DataFrame\n",
            "\n",
            "See the caveats in the documentation: https://pandas.pydata.org/pandas-docs/stable/user_guide/indexing.html#returning-a-view-versus-a-copy\n",
            "  errors=errors,\n"
          ],
          "name": "stderr"
        }
      ]
    },
    {
      "cell_type": "code",
      "metadata": {
        "id": "Q4khY8KyiS0I"
      },
      "source": [
        ""
      ],
      "execution_count": 3,
      "outputs": []
    }
  ]
}