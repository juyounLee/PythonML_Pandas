{
  "nbformat": 4,
  "nbformat_minor": 0,
  "metadata": {
    "colab": {
      "name": "1.6_change_df_idx_col2.ipynb",
      "provenance": [],
      "collapsed_sections": [],
      "authorship_tag": "ABX9TyPYNcdexDvRsbC2eWPpj9kD",
      "include_colab_link": true
    },
    "kernelspec": {
      "name": "python3",
      "display_name": "Python 3"
    }
  },
  "cells": [
    {
      "cell_type": "markdown",
      "metadata": {
        "id": "view-in-github",
        "colab_type": "text"
      },
      "source": [
        "<a href=\"https://colab.research.google.com/github/juyounLee/PythonML_Pandas/blob/main/1_6_change_df_idx_col2.ipynb\" target=\"_parent\"><img src=\"https://colab.research.google.com/assets/colab-badge.svg\" alt=\"Open In Colab\"/></a>"
      ]
    },
    {
      "cell_type": "markdown",
      "metadata": {
        "id": "adM9jUBpaLtX"
      },
      "source": [
        "## 예제 1-6 Index / columns 이름 변경: \n",
        "- 원본 object를 직접 수정하는 것이 아니라 새로운 dataframe object를 반환한다.\n",
        "- 원본 object를 변경하려면 inplace=True 옵션을 사용"
      ]
    },
    {
      "cell_type": "code",
      "metadata": {
        "id": "EreASal-aGNp"
      },
      "source": [
        "import pandas as pd"
      ],
      "execution_count": 1,
      "outputs": []
    },
    {
      "cell_type": "code",
      "metadata": {
        "id": "n5nq2WcuaWvH",
        "outputId": "9384f216-dec0-4f48-9dae-b3986e624b6c",
        "colab": {
          "base_uri": "https://localhost:8080/",
          "height": 139
        }
      },
      "source": [
        "# index / columns 이름 지정하여 데이터 프레임 만들기\n",
        "\n",
        "df = pd.DataFrame([[15, 'M', 'SHS'], [16, 'F', 'BC']],\n",
        "                  index = ['Bill', 'Jane'],\n",
        "                  columns = ['Age', 'Sex', 'School'])\n",
        "\n",
        "print(df, '\\n')\n",
        "\n",
        "# columns 이름 중, 'Sex'를 'sex'로, 'Age'를 'age'로, 'School'을 'school'로 바꾸기\n",
        "df.rename(columns={'Sex':'sex', 'Age':'age', 'School':'school'}, inplace=True)\n",
        "df.rename(index={'Bill': 'Stu1', 'Jane':'Stu2'}, inplace = True)\n",
        "\n",
        "print(df)"
      ],
      "execution_count": 2,
      "outputs": [
        {
          "output_type": "stream",
          "text": [
            "      Age Sex School\n",
            "Bill   15   M    SHS\n",
            "Jane   16   F     BC \n",
            "\n",
            "      age sex school\n",
            "Stu1   15   M    SHS\n",
            "Stu2   16   F     BC\n"
          ],
          "name": "stdout"
        }
      ]
    },
    {
      "cell_type": "code",
      "metadata": {
        "id": "KMuZ9ba0cXFa"
      },
      "source": [
        ""
      ],
      "execution_count": 2,
      "outputs": []
    }
  ]
}