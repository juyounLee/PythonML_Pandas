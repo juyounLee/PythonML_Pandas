{
  "nbformat": 4,
  "nbformat_minor": 0,
  "metadata": {
    "colab": {
      "name": "1.13_add_row.ipynb",
      "provenance": [],
      "authorship_tag": "ABX9TyP99Kz1cTfYqJ/7s/ZuAGgj",
      "include_colab_link": true
    },
    "kernelspec": {
      "name": "python3",
      "display_name": "Python 3"
    }
  },
  "cells": [
    {
      "cell_type": "markdown",
      "metadata": {
        "id": "view-in-github",
        "colab_type": "text"
      },
      "source": [
        "<a href=\"https://colab.research.google.com/github/juyounLee/PythonML_Pandas/blob/main/1_13_add_row.ipynb\" target=\"_parent\"><img src=\"https://colab.research.google.com/assets/colab-badge.svg\" alt=\"Open In Colab\"/></a>"
      ]
    },
    {
      "cell_type": "markdown",
      "metadata": {
        "id": "J_PsELlpZMEi"
      },
      "source": [
        "## 예제 1-13 row 추가"
      ]
    },
    {
      "cell_type": "code",
      "metadata": {
        "id": "lYklQwiEZIOq"
      },
      "source": [
        "import pandas as pd"
      ],
      "execution_count": 1,
      "outputs": []
    },
    {
      "cell_type": "code",
      "metadata": {
        "id": "Vf20Q4gdZRX6",
        "outputId": "80501637-4149-411f-84f2-6a64bdfee784",
        "colab": {
          "base_uri": "https://localhost:8080/",
          "height": 104
        }
      },
      "source": [
        "# DataFrame() 함수로 데이터프레임 변환, 변수 df에 저장\n",
        "\n",
        "exam_data = {'name':['stu1', 'stu2', 'stu3'], 'math':[90, 80, 70], 'eng':[98, 99, 95],\n",
        "             'music':[89, 90, 92], 'PE':[96, 99, 92]}\n",
        "\n",
        "df = pd.DataFrame(exam_data)\n",
        "print(df)\n",
        "print(type(df))"
      ],
      "execution_count": 2,
      "outputs": [
        {
          "output_type": "stream",
          "text": [
            "   name  math  eng  music  PE\n",
            "0  stu1    90   98     89  96\n",
            "1  stu2    80   99     90  99\n",
            "2  stu3    70   95     92  92\n",
            "<class 'pandas.core.frame.DataFrame'>\n"
          ],
          "name": "stdout"
        }
      ]
    },
    {
      "cell_type": "code",
      "metadata": {
        "id": "OdXPWCkdZT0U",
        "outputId": "2fe823d2-37a9-460d-ffcb-c041c857d3df",
        "colab": {
          "base_uri": "https://localhost:8080/",
          "height": 104
        }
      },
      "source": [
        "# 새로운 row 추가 - 같은 값 입력\n",
        "df.loc[3] = 0\n",
        "print(df)"
      ],
      "execution_count": 3,
      "outputs": [
        {
          "output_type": "stream",
          "text": [
            "   name  math  eng  music  PE\n",
            "0  stu1    90   98     89  96\n",
            "1  stu2    80   99     90  99\n",
            "2  stu3    70   95     92  92\n",
            "3     0     0    0      0   0\n"
          ],
          "name": "stdout"
        }
      ]
    },
    {
      "cell_type": "code",
      "metadata": {
        "id": "hQEFOH78ZewF",
        "outputId": "1d2e05d4-e092-46cb-b85f-855012a043b1",
        "colab": {
          "base_uri": "https://localhost:8080/",
          "height": 121
        }
      },
      "source": [
        "# 새로운 row 추가 - 원소 값 여러개의 배열 입력\n",
        "df.loc[4] = ['stu4', 90, 80, 70, 60]\n",
        "print(df)"
      ],
      "execution_count": 4,
      "outputs": [
        {
          "output_type": "stream",
          "text": [
            "   name  math  eng  music  PE\n",
            "0  stu1    90   98     89  96\n",
            "1  stu2    80   99     90  99\n",
            "2  stu3    70   95     92  92\n",
            "3     0     0    0      0   0\n",
            "4  stu4    90   80     70  60\n"
          ],
          "name": "stdout"
        }
      ]
    },
    {
      "cell_type": "code",
      "metadata": {
        "id": "ZqJ5awzNZsNo",
        "outputId": "9f1e209d-fd96-4762-8f34-b7060769d194",
        "colab": {
          "base_uri": "https://localhost:8080/",
          "height": 139
        }
      },
      "source": [
        "# 새로운 row 추가 - 기존 row 복사\n",
        "df.loc[5] = df.loc[3]\n",
        "print(df)"
      ],
      "execution_count": 5,
      "outputs": [
        {
          "output_type": "stream",
          "text": [
            "   name  math  eng  music  PE\n",
            "0  stu1    90   98     89  96\n",
            "1  stu2    80   99     90  99\n",
            "2  stu3    70   95     92  92\n",
            "3     0     0    0      0   0\n",
            "4  stu4    90   80     70  60\n",
            "5     0     0    0      0   0\n"
          ],
          "name": "stdout"
        }
      ]
    },
    {
      "cell_type": "code",
      "metadata": {
        "id": "8G53vmsDZ119"
      },
      "source": [
        ""
      ],
      "execution_count": 5,
      "outputs": []
    }
  ]
}