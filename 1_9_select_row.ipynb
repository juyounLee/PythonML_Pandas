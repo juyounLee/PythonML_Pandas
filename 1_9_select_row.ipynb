{
  "nbformat": 4,
  "nbformat_minor": 0,
  "metadata": {
    "colab": {
      "name": "1.9_select_row.ipynb",
      "provenance": [],
      "authorship_tag": "ABX9TyO1BuFZVfeWjHFuo0kyYrqx",
      "include_colab_link": true
    },
    "kernelspec": {
      "name": "python3",
      "display_name": "Python 3"
    }
  },
  "cells": [
    {
      "cell_type": "markdown",
      "metadata": {
        "id": "view-in-github",
        "colab_type": "text"
      },
      "source": [
        "<a href=\"https://colab.research.google.com/github/juyounLee/PythonML_Pandas/blob/main/1_9_select_row.ipynb\" target=\"_parent\"><img src=\"https://colab.research.google.com/assets/colab-badge.svg\" alt=\"Open In Colab\"/></a>"
      ]
    },
    {
      "cell_type": "markdown",
      "metadata": {
        "id": "A1dL7iwNpyBB"
      },
      "source": [
        "## 예제 1-9 row 선택\n",
        "- row data를 선택하기 위해서는 loc와 iloc index를 사용\n",
        "- loc: index 이름을 기준으로 행을 선택\n",
        "- iloc: integer 위치 index를 사용할때"
      ]
    },
    {
      "cell_type": "code",
      "metadata": {
        "id": "OHpFQmjFptR7"
      },
      "source": [
        "import pandas as pd"
      ],
      "execution_count": null,
      "outputs": []
    },
    {
      "cell_type": "code",
      "metadata": {
        "id": "SpEEeg3Sp4lr",
        "outputId": "ff15ad73-7bbc-4332-98f6-fcbbe9810c4e",
        "colab": {
          "base_uri": "https://localhost:8080/",
          "height": 87
        }
      },
      "source": [
        "# DataFrame() 함수로 데이터프레임 변환, 변수 df에 저장\n",
        "\n",
        "exam_data = {'math':[90, 80, 70], 'eng':[98, 99, 95],\n",
        "             'music':[89, 90, 92], 'PE':[96, 99, 92]}\n",
        "\n",
        "df = pd.DataFrame(exam_data, index=['stu1', 'stu2', 'stu3'])\n",
        "print(df)"
      ],
      "execution_count": null,
      "outputs": [
        {
          "output_type": "stream",
          "text": [
            "      math  eng  music  PE\n",
            "stu1    90   98     89  96\n",
            "stu2    80   99     90  99\n",
            "stu3    70   95     92  92\n"
          ],
          "name": "stdout"
        }
      ]
    },
    {
      "cell_type": "code",
      "metadata": {
        "id": "xOYwQZpJqHEW",
        "outputId": "da7b0f14-7633-4416-ae4d-263482675d85",
        "colab": {
          "base_uri": "https://localhost:8080/",
          "height": 208
        }
      },
      "source": [
        "# row index를 사용하여 row 1개 선택\n",
        "\n",
        "label1 = df.loc['stu1']\n",
        "position1 = df.iloc[0]\n",
        "print(label1, '\\n')\n",
        "print(position1)"
      ],
      "execution_count": null,
      "outputs": [
        {
          "output_type": "stream",
          "text": [
            "math     90\n",
            "eng      98\n",
            "music    89\n",
            "PE       96\n",
            "Name: stu1, dtype: int64 \n",
            "\n",
            "math     90\n",
            "eng      98\n",
            "music    89\n",
            "PE       96\n",
            "Name: stu1, dtype: int64\n"
          ],
          "name": "stdout"
        }
      ]
    },
    {
      "cell_type": "code",
      "metadata": {
        "id": "BAlev89qq7rw",
        "outputId": "85fc38a8-9dc3-44f9-aa90-2ee2398391f0",
        "colab": {
          "base_uri": "https://localhost:8080/",
          "height": 139
        }
      },
      "source": [
        "# row index를 사용하여 2개 이상의 row 선택\n",
        "label2 = df.loc[['stu1', 'stu2']]\n",
        "position2 = df.iloc[[0, 1]]\n",
        "print(label2, '\\n')\n",
        "print(position2)"
      ],
      "execution_count": null,
      "outputs": [
        {
          "output_type": "stream",
          "text": [
            "      math  eng  music  PE\n",
            "stu1    90   98     89  96\n",
            "stu2    80   99     90  99 \n",
            "\n",
            "      math  eng  music  PE\n",
            "stu1    90   98     89  96\n",
            "stu2    80   99     90  99\n"
          ],
          "name": "stdout"
        }
      ]
    },
    {
      "cell_type": "code",
      "metadata": {
        "id": "l3vlTgxGrSxs",
        "outputId": "a83dfeeb-ba8c-469b-af10-53817f852d60",
        "colab": {
          "base_uri": "https://localhost:8080/",
          "height": 121
        }
      },
      "source": [
        "# row index 범위를 사용하여 행 선택\n",
        "label3 = df.loc['stu1':'stu2']\n",
        "position3 = df.iloc[0:1]\n",
        "print(label3, '\\n')\n",
        "print(position3)"
      ],
      "execution_count": null,
      "outputs": [
        {
          "output_type": "stream",
          "text": [
            "      math  eng  music  PE\n",
            "stu1    90   98     89  96\n",
            "stu2    80   99     90  99 \n",
            "\n",
            "      math  eng  music  PE\n",
            "stu1    90   98     89  96\n"
          ],
          "name": "stdout"
        }
      ]
    },
    {
      "cell_type": "code",
      "metadata": {
        "id": "mpJdy67Lr2AT"
      },
      "source": [
        ""
      ],
      "execution_count": null,
      "outputs": []
    }
  ]
}