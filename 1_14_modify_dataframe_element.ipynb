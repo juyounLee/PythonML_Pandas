{
  "nbformat": 4,
  "nbformat_minor": 0,
  "metadata": {
    "colab": {
      "name": "1.14_modify_dataframe_element.ipynb",
      "provenance": [],
      "authorship_tag": "ABX9TyN+uaDosscpHNOC/iHyIrSN",
      "include_colab_link": true
    },
    "kernelspec": {
      "name": "python3",
      "display_name": "Python 3"
    }
  },
  "cells": [
    {
      "cell_type": "markdown",
      "metadata": {
        "id": "view-in-github",
        "colab_type": "text"
      },
      "source": [
        "<a href=\"https://colab.research.google.com/github/juyounLee/PythonML_Pandas/blob/main/1_14_modify_dataframe_element.ipynb\" target=\"_parent\"><img src=\"https://colab.research.google.com/assets/colab-badge.svg\" alt=\"Open In Colab\"/></a>"
      ]
    },
    {
      "cell_type": "markdown",
      "metadata": {
        "id": "OT1pSwjmaQvM"
      },
      "source": [
        "## Ex 1-14 element value 변경"
      ]
    },
    {
      "cell_type": "code",
      "metadata": {
        "id": "D3S5UITGaIqb"
      },
      "source": [
        "import pandas as pd"
      ],
      "execution_count": 1,
      "outputs": []
    },
    {
      "cell_type": "code",
      "metadata": {
        "id": "lMBsP4t3aXn8",
        "outputId": "106b2087-0343-41dc-a3af-59d49e98d298",
        "colab": {
          "base_uri": "https://localhost:8080/",
          "height": 104
        }
      },
      "source": [
        "# DataFrame() 함수로 데이터프레임 변환, 변수 df에 저장\n",
        "\n",
        "exam_data = {'name':['stu1', 'stu2', 'stu3'], 'math':[90, 80, 70], 'eng':[98, 99, 95],\n",
        "             'music':[89, 90, 92], 'PE':[96, 99, 92]}\n",
        "\n",
        "df = pd.DataFrame(exam_data)\n",
        "print(df)\n",
        "print(type(df))"
      ],
      "execution_count": 2,
      "outputs": [
        {
          "output_type": "stream",
          "text": [
            "   name  math  eng  music  PE\n",
            "0  stu1    90   98     89  96\n",
            "1  stu2    80   99     90  99\n",
            "2  stu3    70   95     92  92\n",
            "<class 'pandas.core.frame.DataFrame'>\n"
          ],
          "name": "stdout"
        }
      ]
    },
    {
      "cell_type": "code",
      "metadata": {
        "id": "bO6WAnRabNxR",
        "outputId": "2513abd3-7630-4b62-9b97-6c30df4c6424",
        "colab": {
          "base_uri": "https://localhost:8080/",
          "height": 104
        }
      },
      "source": [
        "# 'name' row를 새로운 index로 지정하고, df 객체에 변경사항 반영\n",
        "df.set_index('name', inplace=True)\n",
        "print(df)"
      ],
      "execution_count": 3,
      "outputs": [
        {
          "output_type": "stream",
          "text": [
            "      math  eng  music  PE\n",
            "name                      \n",
            "stu1    90   98     89  96\n",
            "stu2    80   99     90  99\n",
            "stu3    70   95     92  92\n"
          ],
          "name": "stdout"
        }
      ]
    },
    {
      "cell_type": "code",
      "metadata": {
        "id": "iPNS_1HidMUE",
        "outputId": "00528eeb-f2a9-40b9-f997-47430596adde",
        "colab": {
          "base_uri": "https://localhost:8080/",
          "height": 104
        }
      },
      "source": [
        "# 'stu1'의 PE 변경\n",
        "df.iloc[0, 3] = 80\n",
        "print(df)"
      ],
      "execution_count": 4,
      "outputs": [
        {
          "output_type": "stream",
          "text": [
            "      math  eng  music  PE\n",
            "name                      \n",
            "stu1    90   98     89  80\n",
            "stu2    80   99     90  99\n",
            "stu3    70   95     92  92\n"
          ],
          "name": "stdout"
        }
      ]
    },
    {
      "cell_type": "code",
      "metadata": {
        "id": "1JWyQpsCfGQp",
        "outputId": "ffba3ab6-5b07-48ee-ff2c-9c34e4546a78",
        "colab": {
          "base_uri": "https://localhost:8080/",
          "height": 104
        }
      },
      "source": [
        "df.loc['stu1', 'PE'] = 90\n",
        "print(df)"
      ],
      "execution_count": 5,
      "outputs": [
        {
          "output_type": "stream",
          "text": [
            "      math  eng  music  PE\n",
            "name                      \n",
            "stu1    90   98     89  90\n",
            "stu2    80   99     90  99\n",
            "stu3    70   95     92  92\n"
          ],
          "name": "stdout"
        }
      ]
    },
    {
      "cell_type": "code",
      "metadata": {
        "id": "XTpaG_qRfOlZ",
        "outputId": "5701645a-a053-4842-e903-06736af55f54",
        "colab": {
          "base_uri": "https://localhost:8080/",
          "height": 104
        }
      },
      "source": [
        "df.iloc[0][3] = 100\n",
        "print(df)"
      ],
      "execution_count": 6,
      "outputs": [
        {
          "output_type": "stream",
          "text": [
            "      math  eng  music   PE\n",
            "name                       \n",
            "stu1    90   98     89  100\n",
            "stu2    80   99     90   99\n",
            "stu3    70   95     92   92\n"
          ],
          "name": "stdout"
        }
      ]
    },
    {
      "cell_type": "code",
      "metadata": {
        "id": "q8JPyuAhfU_k",
        "outputId": "76504153-e1d8-46e8-c2a5-35ef01657abb",
        "colab": {
          "base_uri": "https://localhost:8080/",
          "height": 104
        }
      },
      "source": [
        "# 'stu1'의 'music', 'PE' 동시에 변경\n",
        "df.loc['stu1', ['music', 'PE']] = 50\n",
        "print(df)"
      ],
      "execution_count": 7,
      "outputs": [
        {
          "output_type": "stream",
          "text": [
            "      math  eng  music  PE\n",
            "name                      \n",
            "stu1    90   98     50  50\n",
            "stu2    80   99     90  99\n",
            "stu3    70   95     92  92\n"
          ],
          "name": "stdout"
        }
      ]
    },
    {
      "cell_type": "code",
      "metadata": {
        "id": "MJ4NJViahLhe"
      },
      "source": [
        ""
      ],
      "execution_count": 7,
      "outputs": []
    }
  ]
}