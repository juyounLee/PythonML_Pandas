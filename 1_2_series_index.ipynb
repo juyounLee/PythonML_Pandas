{
  "nbformat": 4,
  "nbformat_minor": 0,
  "metadata": {
    "colab": {
      "name": "1.2_series_index.ipynb",
      "provenance": [],
      "authorship_tag": "ABX9TyNmP/EMYvHWiHLozJc354Wp",
      "include_colab_link": true
    },
    "kernelspec": {
      "name": "python3",
      "display_name": "Python 3"
    }
  },
  "cells": [
    {
      "cell_type": "markdown",
      "metadata": {
        "id": "view-in-github",
        "colab_type": "text"
      },
      "source": [
        "<a href=\"https://colab.research.google.com/github/juyounLee/PythonML_Pandas/blob/main/1_2_series_index.ipynb\" target=\"_parent\"><img src=\"https://colab.research.google.com/assets/colab-badge.svg\" alt=\"Open In Colab\"/></a>"
      ]
    },
    {
      "cell_type": "markdown",
      "metadata": {
        "id": "zQZCbQd6Lrvr"
      },
      "source": [
        "## 예제 1-2 Series Index"
      ]
    },
    {
      "cell_type": "code",
      "metadata": {
        "id": "FpWn11__Lmgz"
      },
      "source": [
        "import pandas as pd"
      ],
      "execution_count": 1,
      "outputs": []
    },
    {
      "cell_type": "code",
      "metadata": {
        "id": "MevSwu8cL0bI",
        "outputId": "1e6b2549-413c-4208-9f18-93961242e9ce",
        "colab": {
          "base_uri": "https://localhost:8080/",
          "height": 121
        }
      },
      "source": [
        "# List를 Series로 변환하여 변수 sr에 저장\n",
        "\n",
        "list_data=['2020-8-19', 3.14, 'ABC', 100, True]\n",
        "sr = pd.Series(list_data)\n",
        "print(sr)"
      ],
      "execution_count": 2,
      "outputs": [
        {
          "output_type": "stream",
          "text": [
            "0    2020-8-19\n",
            "1         3.14\n",
            "2          ABC\n",
            "3          100\n",
            "4         True\n",
            "dtype: object\n"
          ],
          "name": "stdout"
        }
      ]
    },
    {
      "cell_type": "code",
      "metadata": {
        "id": "OSi0B789MQS2",
        "outputId": "0ed45103-75a9-41d1-b616-03a87bba2a34",
        "colab": {
          "base_uri": "https://localhost:8080/",
          "height": 52
        }
      },
      "source": [
        "# Index 배열은 변수 idx에 저장\n",
        "# 데이터값 배열은 변수 val에 저장\n",
        "\n",
        "idx = sr.index\n",
        "val = sr.values\n",
        "print(idx)\n",
        "print(val)"
      ],
      "execution_count": 3,
      "outputs": [
        {
          "output_type": "stream",
          "text": [
            "RangeIndex(start=0, stop=5, step=1)\n",
            "['2020-8-19' 3.14 'ABC' 100 True]\n"
          ],
          "name": "stdout"
        }
      ]
    },
    {
      "cell_type": "code",
      "metadata": {
        "id": "5QjiuJrhMtTz"
      },
      "source": [
        ""
      ],
      "execution_count": 3,
      "outputs": []
    }
  ]
}