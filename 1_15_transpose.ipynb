{
  "nbformat": 4,
  "nbformat_minor": 0,
  "metadata": {
    "colab": {
      "name": "1.15_transpose.ipynb",
      "provenance": [],
      "authorship_tag": "ABX9TyPKZEakMaBMj6HvTWZaKOls",
      "include_colab_link": true
    },
    "kernelspec": {
      "name": "python3",
      "display_name": "Python 3"
    }
  },
  "cells": [
    {
      "cell_type": "markdown",
      "metadata": {
        "id": "view-in-github",
        "colab_type": "text"
      },
      "source": [
        "<a href=\"https://colab.research.google.com/github/juyounLee/PythonML_Pandas/blob/main/1_15_transpose.ipynb\" target=\"_parent\"><img src=\"https://colab.research.google.com/assets/colab-badge.svg\" alt=\"Open In Colab\"/></a>"
      ]
    },
    {
      "cell_type": "markdown",
      "metadata": {
        "id": "1JUwj-IGlNAk"
      },
      "source": [
        "## Ex 1-15 row와 columns 바꾸기"
      ]
    },
    {
      "cell_type": "code",
      "metadata": {
        "id": "Nu5iBsXLh95N"
      },
      "source": [
        "import pandas as pd"
      ],
      "execution_count": 1,
      "outputs": []
    },
    {
      "cell_type": "code",
      "metadata": {
        "id": "Ue822inYlTxH",
        "outputId": "f5d77077-84fc-4f0d-8fc0-ebd7005e47a5",
        "colab": {
          "base_uri": "https://localhost:8080/",
          "height": 104
        }
      },
      "source": [
        "# DataFrame() 함수로 데이터프레임 변환, 변수 df에 저장\n",
        "\n",
        "exam_data = {'name':['stu1', 'stu2', 'stu3'], 'math':[90, 80, 70], 'eng':[98, 99, 95],\n",
        "             'music':[89, 90, 92], 'PE':[96, 99, 92]}\n",
        "\n",
        "df = pd.DataFrame(exam_data)\n",
        "print(df)\n",
        "print(type(df))"
      ],
      "execution_count": 2,
      "outputs": [
        {
          "output_type": "stream",
          "text": [
            "   name  math  eng  music  PE\n",
            "0  stu1    90   98     89  96\n",
            "1  stu2    80   99     90  99\n",
            "2  stu3    70   95     92  92\n",
            "<class 'pandas.core.frame.DataFrame'>\n"
          ],
          "name": "stdout"
        }
      ]
    },
    {
      "cell_type": "code",
      "metadata": {
        "id": "aHpqVlUElYTm",
        "outputId": "eeabf1fa-3773-41c5-d9db-bdc3ae8fef7d",
        "colab": {
          "base_uri": "https://localhost:8080/",
          "height": 121
        }
      },
      "source": [
        "# dataframe을 transepose 하기\n",
        "df = df.transpose()\n",
        "print(df)"
      ],
      "execution_count": 3,
      "outputs": [
        {
          "output_type": "stream",
          "text": [
            "          0     1     2\n",
            "name   stu1  stu2  stu3\n",
            "math     90    80    70\n",
            "eng      98    99    95\n",
            "music    89    90    92\n",
            "PE       96    99    92\n"
          ],
          "name": "stdout"
        }
      ]
    },
    {
      "cell_type": "code",
      "metadata": {
        "id": "GQOMgd8MlnlN",
        "outputId": "a1ad1d31-0aa8-427f-d26f-4fb6395f3759",
        "colab": {
          "base_uri": "https://localhost:8080/",
          "height": 87
        }
      },
      "source": [
        "# 다시 transpose 하기\n",
        "df = df.T\n",
        "print(df)"
      ],
      "execution_count": 4,
      "outputs": [
        {
          "output_type": "stream",
          "text": [
            "   name math eng music  PE\n",
            "0  stu1   90  98    89  96\n",
            "1  stu2   80  99    90  99\n",
            "2  stu3   70  95    92  92\n"
          ],
          "name": "stdout"
        }
      ]
    },
    {
      "cell_type": "code",
      "metadata": {
        "id": "IjuCdrrNlwTM",
        "outputId": "f8d9730f-1066-4c35-f880-a8c2b7a7d3f0",
        "colab": {
          "base_uri": "https://localhost:8080/",
          "height": 121
        }
      },
      "source": [
        "df = df.T\n",
        "print(df)"
      ],
      "execution_count": 5,
      "outputs": [
        {
          "output_type": "stream",
          "text": [
            "          0     1     2\n",
            "name   stu1  stu2  stu3\n",
            "math     90    80    70\n",
            "eng      98    99    95\n",
            "music    89    90    92\n",
            "PE       96    99    92\n"
          ],
          "name": "stdout"
        }
      ]
    },
    {
      "cell_type": "code",
      "metadata": {
        "id": "Y6Dpj65alzfy"
      },
      "source": [
        ""
      ],
      "execution_count": 5,
      "outputs": []
    }
  ]
}