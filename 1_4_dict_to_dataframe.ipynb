{
  "nbformat": 4,
  "nbformat_minor": 0,
  "metadata": {
    "colab": {
      "name": "1.4_dict_to_dataframe.ipynb",
      "provenance": [],
      "authorship_tag": "ABX9TyNKC6/p8vhMP8gesJGwMNKg",
      "include_colab_link": true
    },
    "kernelspec": {
      "name": "python3",
      "display_name": "Python 3"
    }
  },
  "cells": [
    {
      "cell_type": "markdown",
      "metadata": {
        "id": "view-in-github",
        "colab_type": "text"
      },
      "source": [
        "<a href=\"https://colab.research.google.com/github/juyounLee/PythonML_Pandas/blob/main/1_4_dict_to_dataframe.ipynb\" target=\"_parent\"><img src=\"https://colab.research.google.com/assets/colab-badge.svg\" alt=\"Open In Colab\"/></a>"
      ]
    },
    {
      "cell_type": "markdown",
      "metadata": {
        "id": "VG4dlBtfXLni"
      },
      "source": [
        "## Dictionary - Dataframe 변환"
      ]
    },
    {
      "cell_type": "code",
      "metadata": {
        "id": "Pjm0vUuVXPEA"
      },
      "source": [
        "import pandas as pd"
      ],
      "execution_count": 1,
      "outputs": []
    },
    {
      "cell_type": "code",
      "metadata": {
        "id": "WJgpwQzEXSIH",
        "outputId": "3035a890-ad98-4a1c-f0f8-d1e465e6d9c5",
        "colab": {
          "base_uri": "https://localhost:8080/",
          "height": 121
        }
      },
      "source": [
        "# column을 key로 하고, list를 value로 갖는 dictionary 정의 (2차원 배열)\n",
        "\n",
        "dict_data = {'c0':[1,2,3], 'c1':[4,5,6], 'c2':[7,8,9], 'c3':[10, 11, 12], 'c4':[13, 14, 15]}\n",
        "\n",
        "# pandas DataFrame() 함수로 dictionary를 데이터프레임으로 변환. 변수 df에 저장\n",
        "df = pd.DataFrame(dict_data)\n",
        "\n",
        "# df의 자료형 출력\n",
        "print(type(df), '\\n')\n",
        "\n",
        "# 변수 df에 저장되어 있는 dataframe 객체를 출력\n",
        "print(df)"
      ],
      "execution_count": 2,
      "outputs": [
        {
          "output_type": "stream",
          "text": [
            "<class 'pandas.core.frame.DataFrame'> \n",
            "\n",
            "   c0  c1  c2  c3  c4\n",
            "0   1   4   7  10  13\n",
            "1   2   5   8  11  14\n",
            "2   3   6   9  12  15\n"
          ],
          "name": "stdout"
        }
      ]
    },
    {
      "cell_type": "code",
      "metadata": {
        "id": "RWFXf3UkYHzn"
      },
      "source": [
        ""
      ],
      "execution_count": 2,
      "outputs": []
    }
  ]
}